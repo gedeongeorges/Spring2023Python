{
 "cells": [
  {
   "cell_type": "code",
   "execution_count": 2,
   "id": "214f4a57",
   "metadata": {},
   "outputs": [],
   "source": [
    "from PIL import Image\n",
    "import numpy as np"
   ]
  },
  {
   "attachments": {},
   "cell_type": "markdown",
   "id": "c80d2412",
   "metadata": {},
   "source": [
    "Загрузите картинку с помощью команды open. Если необходимо, можете изменить размер картинки с помощью метода resize."
   ]
  },
  {
   "cell_type": "code",
   "execution_count": null,
   "id": "4e3cd80f",
   "metadata": {},
   "outputs": [],
   "source": [
    "img = Image.open('chicago.jpg')#.resize(())\n",
    "img"
   ]
  },
  {
   "attachments": {},
   "cell_type": "markdown",
   "id": "f3a1419c",
   "metadata": {},
   "source": [
    "Преобразуйте картинку из объекта класса PIL в Numpy массив."
   ]
  },
  {
   "cell_type": "code",
   "execution_count": 3,
   "id": "bc57746f",
   "metadata": {},
   "outputs": [
    {
     "data": {
      "text/plain": [
       "dtype('float32')"
      ]
     },
     "execution_count": 3,
     "metadata": {},
     "output_type": "execute_result"
    }
   ],
   "source": [
    "x = np.array(img, dtype=np.float32)\n",
    "x.dtype"
   ]
  },
  {
   "cell_type": "code",
   "execution_count": 4,
   "id": "8baa67d5",
   "metadata": {},
   "outputs": [
    {
     "data": {
      "text/plain": [
       "(1414, 2121, 3)"
      ]
     },
     "execution_count": 4,
     "metadata": {},
     "output_type": "execute_result"
    }
   ],
   "source": [
    "x.shape"
   ]
  },
  {
   "attachments": {},
   "cell_type": "markdown",
   "id": "4d5367b0",
   "metadata": {},
   "source": [
    "Видно, что исходная цветная картинка содержит три канала - RGB. Преобразуем её в одноканальную либо с помощью специальной функции rgb2gray либо обычным усреднением по трём каналам."
   ]
  },
  {
   "cell_type": "code",
   "execution_count": 5,
   "id": "875ec446",
   "metadata": {},
   "outputs": [],
   "source": [
    "def rgb2gray(rgb):\n",
    "\n",
    "    r, g, b = rgb[:,:,0], rgb[:,:,1], rgb[:,:,2]\n",
    "    gray = 0.2989 * r + 0.5870 * g + 0.1140 * b\n",
    "\n",
    "    return gray"
   ]
  },
  {
   "cell_type": "code",
   "execution_count": null,
   "id": "9c565d83",
   "metadata": {},
   "outputs": [],
   "source": [
    "Image.fromarray(np.asarray(rgb2gray(x), dtype=np.uint8))"
   ]
  },
  {
   "attachments": {},
   "cell_type": "markdown",
   "id": "89fc867f",
   "metadata": {},
   "source": [
    "![chicago](https://encrypted-tbn0.gstatic.com/images?q=tbn:ANd9GcTrA7av4wltFDizgLxZYD0ek7n1thuH7d9_izw8mjs-1U3MthgltOqIlVsgEIyPnmkII_A&usqp=CAU)"
   ]
  },
  {
   "cell_type": "code",
   "execution_count": null,
   "id": "8afc7386",
   "metadata": {},
   "outputs": [],
   "source": [
    "Image.fromarray(np.asarray(x.mean(axis=2), dtype=np.uint8))"
   ]
  },
  {
   "attachments": {},
   "cell_type": "markdown",
   "id": "4ee77eda",
   "metadata": {},
   "source": [
    "![](https://encrypted-tbn0.gstatic.com/images?q=tbn:ANd9GcTrA7av4wltFDizgLxZYD0ek7n1thuH7d9_izw8mjs-1U3MthgltOqIlVsgEIyPnmkII_A&usqp=CAU)"
   ]
  },
  {
   "attachments": {},
   "cell_type": "markdown",
   "id": "f257a870",
   "metadata": {},
   "source": [
    "Дальше будем работать с одноканальной картинкой, т.е. двумерной матрицей."
   ]
  },
  {
   "cell_type": "code",
   "execution_count": 8,
   "id": "75fd4e85",
   "metadata": {},
   "outputs": [
    {
     "data": {
      "text/plain": [
       "array([[73.      , 75.      , 76.      , ..., 37.666668, 37.666668,\n",
       "        37.666668],\n",
       "       [73.      , 75.      , 76.      , ..., 38.666668, 38.666668,\n",
       "        37.666668],\n",
       "       [73.      , 75.      , 76.      , ..., 38.666668, 38.666668,\n",
       "        37.666668],\n",
       "       ...,\n",
       "       [64.666664, 64.666664, 63.666668, ...,  9.666667,  9.666667,\n",
       "         9.666667],\n",
       "       [61.666668, 61.666668, 59.666668, ...,  9.666667,  9.666667,\n",
       "         9.666667],\n",
       "       [59.666668, 58.666668, 56.666668, ...,  9.666667,  9.666667,\n",
       "         9.666667]], dtype=float32)"
      ]
     },
     "execution_count": 8,
     "metadata": {},
     "output_type": "execute_result"
    }
   ],
   "source": [
    "#y = rgb2gray(x)\n",
    "y = x.mean(axis=2)\n",
    "y"
   ]
  },
  {
   "cell_type": "code",
   "execution_count": 9,
   "id": "e752c610",
   "metadata": {},
   "outputs": [
    {
     "data": {
      "text/plain": [
       "(1414, 2121)"
      ]
     },
     "execution_count": 9,
     "metadata": {},
     "output_type": "execute_result"
    }
   ],
   "source": [
    "y.shape"
   ]
  },
  {
   "attachments": {},
   "cell_type": "markdown",
   "id": "fb868490",
   "metadata": {},
   "source": [
    "Сделаем SVD разложение"
   ]
  },
  {
   "cell_type": "code",
   "execution_count": 10,
   "id": "124e30bf",
   "metadata": {},
   "outputs": [],
   "source": [
    "U, S, V = np.linalg.svd(y, full_matrices=False)"
   ]
  },
  {
   "cell_type": "code",
   "execution_count": 11,
   "id": "e440c090",
   "metadata": {},
   "outputs": [
    {
     "data": {
      "text/plain": [
       "(1414, 1414)"
      ]
     },
     "execution_count": 11,
     "metadata": {},
     "output_type": "execute_result"
    }
   ],
   "source": [
    "U.shape"
   ]
  },
  {
   "cell_type": "code",
   "execution_count": 12,
   "id": "da01e9fa",
   "metadata": {},
   "outputs": [
    {
     "data": {
      "text/plain": [
       "(1414, 2121)"
      ]
     },
     "execution_count": 12,
     "metadata": {},
     "output_type": "execute_result"
    }
   ],
   "source": [
    "V.shape"
   ]
  },
  {
   "attachments": {},
   "cell_type": "markdown",
   "id": "1b20942f",
   "metadata": {},
   "source": [
    "Проверим что разложение корректное, соберём его обратно, перемножив матрицы"
   ]
  },
  {
   "attachments": {},
   "cell_type": "markdown",
   "id": "bbf7836d",
   "metadata": {},
   "source": [
    "PIL объект можно при необходимости сохранить в файл на диск"
   ]
  },
  {
   "cell_type": "code",
   "execution_count": 14,
   "id": "dec77196",
   "metadata": {},
   "outputs": [],
   "source": [
    "Image.fromarray(np.asarray(Y_full, dtype=np.uint8)).save(f'full_rank.png')"
   ]
  },
  {
   "attachments": {},
   "cell_type": "markdown",
   "id": "6cd19f86",
   "metadata": {},
   "source": [
    "**Задание для самостоятельной работы:**  \n",
    "1. Рассмотреть малоранговые разложения\n",
    "2. Получить картинки для разного значения ранга\n",
    "3. Сохранить несколько картинок на диск\n",
    "4. Сделать выводы\n",
    "\n",
    "**Подсказки:**  \n",
    "Не забудьте при преобразовании Numpy массива в объект PIL преобразовывать тип элементов в np.uint8.  \n",
    "Если число находится вне диапазона [0, 255], сделайте клиппирование - все числа больше 255 приравняйте числу 255, все отрицательные числа сделайте равными нулю."
   ]
  },
  {
   "cell_type": "code",
   "execution_count": 3,
   "id": "e14790a6",
   "metadata": {},
   "outputs": [],
   "source": [
    "def clip(A):\n",
    "    A[A > 255] = 255\n",
    "    A[A < 0] = 0\n",
    "    return A\n",
    "\n",
    "img = Image.open('saya.jpg')#.resize(())\n",
    "x = np.array(img, dtype=np.float32)\n",
    "red, green, blue = x[:,:,0], x[:,:,1], x[:,:,2]\n",
    "\n",
    "Ur, Sr, Vr = np.linalg.svd(red, full_matrices=False) # SVD разложения для каждого канала\n",
    "Ug, Sg, Vg = np.linalg.svd(green, full_matrices=False)\n",
    "Ub, Sb, Vb = np.linalg.svd(blue, full_matrices=False)\n",
    "\n",
    "matFactor = 10\n",
    "\n",
    "redPoints = clip(Ur[:, :matFactor].dot(np.diag(Sr[:matFactor])).dot(Vr[:matFactor, :]))\n",
    "greenPoints = clip(Ug[:, :matFactor].dot(np.diag(Sg[:matFactor])).dot(Vg[:matFactor, :]))\n",
    "bluePoints = clip(Ub[:, :matFactor].dot(np.diag(Sb[:matFactor])).dot(Vb[:matFactor, :]))\n",
    "\n",
    "Points = np.concatenate((redPoints[:,:, np.newaxis], greenPoints[:,:, np.newaxis], bluePoints[:,:, np.newaxis]), axis=2)\n",
    "Image.fromarray(np.asarray(Points, dtype=np.uint8)).save(f'{matFactor} шакалов.png')"
   ]
  },
  {
   "cell_type": "code",
   "execution_count": null,
   "id": "03155e73",
   "metadata": {},
   "outputs": [],
   "source": []
  }
 ],
 "metadata": {
  "kernelspec": {
   "display_name": "Python 3 (ipykernel)",
   "language": "python",
   "name": "python3"
  },
  "language_info": {
   "codemirror_mode": {
    "name": "ipython",
    "version": 3
   },
   "file_extension": ".py",
   "mimetype": "text/x-python",
   "name": "python",
   "nbconvert_exporter": "python",
   "pygments_lexer": "ipython3",
   "version": "3.9.15"
  }
 },
 "nbformat": 4,
 "nbformat_minor": 5
}
